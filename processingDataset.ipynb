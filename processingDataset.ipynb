{
 "cells": [
  {
   "cell_type": "code",
   "execution_count": 1,
   "metadata": {},
   "outputs": [],
   "source": [
    "import pandas as pd\n",
    "from haversine import haversine as hvs, Unit\n",
    "import numpy as np\n",
    "from collections import Counter"
   ]
  },
  {
   "cell_type": "code",
   "execution_count": 3,
   "metadata": {},
   "outputs": [],
   "source": [
    "# USO DE HAVERSINE\n",
    "# lyon = (-13.5549784, -71.8559785) # (lat, lon)\n",
    "# stop = (-71.8573001, -13.5548123)\n",
    "\n",
    "# print(stop)\n",
    "# hvs(lyon, stop)\n",
    "\n",
    "# -------------------\n",
    "# t1,t2,t3\n",
    "# t2 = t1 + (t1-t3)/2"
   ]
  },
  {
   "attachments": {},
   "cell_type": "markdown",
   "metadata": {},
   "source": [
    "# Analisis de Datos"
   ]
  },
  {
   "attachments": {},
   "cell_type": "markdown",
   "metadata": {},
   "source": [
    "### Busstop ida"
   ]
  },
  {
   "cell_type": "code",
   "execution_count": 2,
   "metadata": {
    "tags": []
   },
   "outputs": [
    {
     "data": {
      "text/html": [
       "<div>\n",
       "<style scoped>\n",
       "    .dataframe tbody tr th:only-of-type {\n",
       "        vertical-align: middle;\n",
       "    }\n",
       "\n",
       "    .dataframe tbody tr th {\n",
       "        vertical-align: top;\n",
       "    }\n",
       "\n",
       "    .dataframe thead th {\n",
       "        text-align: right;\n",
       "    }\n",
       "</style>\n",
       "<table border=\"1\" class=\"dataframe\">\n",
       "  <thead>\n",
       "    <tr style=\"text-align: right;\">\n",
       "      <th></th>\n",
       "      <th>id</th>\n",
       "      <th>name</th>\n",
       "      <th>navigation</th>\n",
       "      <th>latitude_longitude</th>\n",
       "      <th>radio</th>\n",
       "    </tr>\n",
       "  </thead>\n",
       "  <tbody>\n",
       "    <tr>\n",
       "      <th>0</th>\n",
       "      <td>0</td>\n",
       "      <td>inicio</td>\n",
       "      <td>159</td>\n",
       "      <td>(-13.5549784, -71.856025)</td>\n",
       "      <td>30</td>\n",
       "    </tr>\n",
       "    <tr>\n",
       "      <th>1</th>\n",
       "      <td>36</td>\n",
       "      <td>primer stop</td>\n",
       "      <td>304</td>\n",
       "      <td>(-13.5548123, -71.8573001)</td>\n",
       "      <td>18</td>\n",
       "    </tr>\n",
       "    <tr>\n",
       "      <th>2</th>\n",
       "      <td>37</td>\n",
       "      <td>segundo stop</td>\n",
       "      <td>281</td>\n",
       "      <td>(-13.5532944, -71.8619442)</td>\n",
       "      <td>13</td>\n",
       "    </tr>\n",
       "    <tr>\n",
       "      <th>3</th>\n",
       "      <td>38</td>\n",
       "      <td>Ccollana</td>\n",
       "      <td>283</td>\n",
       "      <td>(-13.552296, -71.867299)</td>\n",
       "      <td>9</td>\n",
       "    </tr>\n",
       "    <tr>\n",
       "      <th>4</th>\n",
       "      <td>39</td>\n",
       "      <td>Puente Huaccoto</td>\n",
       "      <td>283</td>\n",
       "      <td>(-13.551592, -71.870211)</td>\n",
       "      <td>10</td>\n",
       "    </tr>\n",
       "    <tr>\n",
       "      <th>...</th>\n",
       "      <td>...</td>\n",
       "      <td>...</td>\n",
       "      <td>...</td>\n",
       "      <td>...</td>\n",
       "      <td>...</td>\n",
       "    </tr>\n",
       "    <tr>\n",
       "      <th>79</th>\n",
       "      <td>114</td>\n",
       "      <td>Segundo</td>\n",
       "      <td>221</td>\n",
       "      <td>(-13.547528, -71.985248)</td>\n",
       "      <td>10</td>\n",
       "    </tr>\n",
       "    <tr>\n",
       "      <th>80</th>\n",
       "      <td>115</td>\n",
       "      <td>Reservorio</td>\n",
       "      <td>225</td>\n",
       "      <td>(-13.54966, -71.988003)</td>\n",
       "      <td>10</td>\n",
       "    </tr>\n",
       "    <tr>\n",
       "      <th>81</th>\n",
       "      <td>116</td>\n",
       "      <td>Cuarto</td>\n",
       "      <td>230</td>\n",
       "      <td>(-13.550408, -71.98888)</td>\n",
       "      <td>10</td>\n",
       "    </tr>\n",
       "    <tr>\n",
       "      <th>82</th>\n",
       "      <td>117</td>\n",
       "      <td>Quinto</td>\n",
       "      <td>203</td>\n",
       "      <td>(-13.550841, -71.989448)</td>\n",
       "      <td>10</td>\n",
       "    </tr>\n",
       "    <tr>\n",
       "      <th>83</th>\n",
       "      <td>118</td>\n",
       "      <td>Sexto</td>\n",
       "      <td>233</td>\n",
       "      <td>(-13.551707, -71.99095)</td>\n",
       "      <td>10</td>\n",
       "    </tr>\n",
       "  </tbody>\n",
       "</table>\n",
       "<p>84 rows × 5 columns</p>\n",
       "</div>"
      ],
      "text/plain": [
       "     id             name  navigation          latitude_longitude  radio\n",
       "0     0           inicio         159   (-13.5549784, -71.856025)     30\n",
       "1    36      primer stop         304  (-13.5548123, -71.8573001)     18\n",
       "2    37     segundo stop         281  (-13.5532944, -71.8619442)     13\n",
       "3    38         Ccollana         283    (-13.552296, -71.867299)      9\n",
       "4    39  Puente Huaccoto         283    (-13.551592, -71.870211)     10\n",
       "..  ...              ...         ...                         ...    ...\n",
       "79  114          Segundo         221    (-13.547528, -71.985248)     10\n",
       "80  115       Reservorio         225     (-13.54966, -71.988003)     10\n",
       "81  116           Cuarto         230     (-13.550408, -71.98888)     10\n",
       "82  117           Quinto         203    (-13.550841, -71.989448)     10\n",
       "83  118            Sexto         233     (-13.551707, -71.99095)     10\n",
       "\n",
       "[84 rows x 5 columns]"
      ]
     },
     "execution_count": 2,
     "metadata": {},
     "output_type": "execute_result"
    }
   ],
   "source": [
    "# leer dataset busstop\n",
    "df_stops_ida = pd.read_csv('busstops_ida.csv')\n",
    "\n",
    "# diseño del df: creacion de latitude_longitude\n",
    "df_stops_ida['latitude'] = df_stops_ida.apply(lambda row: (row['latitude'], row['longitude']), axis=1)\n",
    "df_stops_ida.drop(['longitude', 'number'], inplace=True, axis=1)\n",
    "df_stops = df_stops_ida.rename(columns={'latitude':'latitude_longitude'}, inplace=False)\n",
    "\n",
    "df_stops['id'] = df_stops['id'].values.astype(str)\n",
    "\n",
    "# df_stops.info()\n",
    "df_stops"
   ]
  },
  {
   "attachments": {},
   "cell_type": "markdown",
   "metadata": {},
   "source": [
    "### Crear links"
   ]
  },
  {
   "cell_type": "code",
   "execution_count": 3,
   "metadata": {},
   "outputs": [
    {
     "data": {
      "text/html": [
       "<div>\n",
       "<style scoped>\n",
       "    .dataframe tbody tr th:only-of-type {\n",
       "        vertical-align: middle;\n",
       "    }\n",
       "\n",
       "    .dataframe tbody tr th {\n",
       "        vertical-align: top;\n",
       "    }\n",
       "\n",
       "    .dataframe thead th {\n",
       "        text-align: right;\n",
       "    }\n",
       "</style>\n",
       "<table border=\"1\" class=\"dataframe\">\n",
       "  <thead>\n",
       "    <tr style=\"text-align: right;\">\n",
       "      <th></th>\n",
       "      <th>end_stop</th>\n",
       "      <th>linkref</th>\n",
       "    </tr>\n",
       "  </thead>\n",
       "  <tbody>\n",
       "    <tr>\n",
       "      <th>0</th>\n",
       "      <td>36</td>\n",
       "      <td>0:36</td>\n",
       "    </tr>\n",
       "    <tr>\n",
       "      <th>1</th>\n",
       "      <td>37</td>\n",
       "      <td>36:37</td>\n",
       "    </tr>\n",
       "    <tr>\n",
       "      <th>2</th>\n",
       "      <td>38</td>\n",
       "      <td>37:38</td>\n",
       "    </tr>\n",
       "    <tr>\n",
       "      <th>3</th>\n",
       "      <td>39</td>\n",
       "      <td>38:39</td>\n",
       "    </tr>\n",
       "    <tr>\n",
       "      <th>4</th>\n",
       "      <td>40</td>\n",
       "      <td>39:40</td>\n",
       "    </tr>\n",
       "    <tr>\n",
       "      <th>...</th>\n",
       "      <td>...</td>\n",
       "      <td>...</td>\n",
       "    </tr>\n",
       "    <tr>\n",
       "      <th>78</th>\n",
       "      <td>114</td>\n",
       "      <td>113:114</td>\n",
       "    </tr>\n",
       "    <tr>\n",
       "      <th>79</th>\n",
       "      <td>115</td>\n",
       "      <td>114:115</td>\n",
       "    </tr>\n",
       "    <tr>\n",
       "      <th>80</th>\n",
       "      <td>116</td>\n",
       "      <td>115:116</td>\n",
       "    </tr>\n",
       "    <tr>\n",
       "      <th>81</th>\n",
       "      <td>117</td>\n",
       "      <td>116:117</td>\n",
       "    </tr>\n",
       "    <tr>\n",
       "      <th>82</th>\n",
       "      <td>118</td>\n",
       "      <td>117:118</td>\n",
       "    </tr>\n",
       "  </tbody>\n",
       "</table>\n",
       "<p>83 rows × 2 columns</p>\n",
       "</div>"
      ],
      "text/plain": [
       "   end_stop  linkref\n",
       "0        36     0:36\n",
       "1        37    36:37\n",
       "2        38    37:38\n",
       "3        39    38:39\n",
       "4        40    39:40\n",
       "..      ...      ...\n",
       "78      114  113:114\n",
       "79      115  114:115\n",
       "80      116  115:116\n",
       "81      117  116:117\n",
       "82      118  117:118\n",
       "\n",
       "[83 rows x 2 columns]"
      ]
     },
     "execution_count": 3,
     "metadata": {},
     "output_type": "execute_result"
    }
   ],
   "source": [
    "def generateLinks(row):\n",
    "    row['stop'] = df_linkref.loc[row.name+1, 'id']\n",
    "    row['linkref'] = str(row['id']) + ':' + str(df_linkref.loc[row.name+1, 'id'])\n",
    "    return row\n",
    "\n",
    "df_linkref = df_stops.copy()\n",
    "df_linkref = df_linkref.head(df_linkref.shape[0]-1).apply(generateLinks, axis=1)\n",
    "df_linkref = df_linkref.drop(df_linkref.columns[:5], axis=1)\n",
    "df_linkref = df_linkref.rename(columns={'id':'init_stop', 'stop':'end_stop'}, inplace=False)\n",
    "df_linkref['end_stop'] = df_linkref['end_stop'].values.astype(str)\n",
    "df_linkref"
   ]
  },
  {
   "attachments": {},
   "cell_type": "markdown",
   "metadata": {},
   "source": [
    "### Monitoring"
   ]
  },
  {
   "cell_type": "code",
   "execution_count": 4,
   "metadata": {},
   "outputs": [
    {
     "name": "stdout",
     "output_type": "stream",
     "text": [
      "(64702, 7)\n"
     ]
    },
    {
     "data": {
      "text/html": [
       "<div>\n",
       "<style scoped>\n",
       "    .dataframe tbody tr th:only-of-type {\n",
       "        vertical-align: middle;\n",
       "    }\n",
       "\n",
       "    .dataframe tbody tr th {\n",
       "        vertical-align: top;\n",
       "    }\n",
       "\n",
       "    .dataframe thead th {\n",
       "        text-align: right;\n",
       "    }\n",
       "</style>\n",
       "<table border=\"1\" class=\"dataframe\">\n",
       "  <thead>\n",
       "    <tr style=\"text-align: right;\">\n",
       "      <th></th>\n",
       "      <th>id</th>\n",
       "      <th>date_time</th>\n",
       "      <th>lap</th>\n",
       "      <th>latitude_longitude</th>\n",
       "      <th>velocity</th>\n",
       "      <th>navigation</th>\n",
       "      <th>vehicle_id</th>\n",
       "    </tr>\n",
       "  </thead>\n",
       "  <tbody>\n",
       "    <tr>\n",
       "      <th>4824</th>\n",
       "      <td>21937142</td>\n",
       "      <td>2022-07-14 00:01:31</td>\n",
       "      <td>0</td>\n",
       "      <td>(-13.5537836, -71.8619456)</td>\n",
       "      <td>5</td>\n",
       "      <td>6</td>\n",
       "      <td>SJ37</td>\n",
       "    </tr>\n",
       "    <tr>\n",
       "      <th>4978</th>\n",
       "      <td>21937155</td>\n",
       "      <td>2022-07-14 00:03:44</td>\n",
       "      <td>0</td>\n",
       "      <td>(-13.5540421, -71.8620274)</td>\n",
       "      <td>0</td>\n",
       "      <td>194</td>\n",
       "      <td>SJ37</td>\n",
       "    </tr>\n",
       "    <tr>\n",
       "      <th>5039</th>\n",
       "      <td>21937160</td>\n",
       "      <td>2022-07-14 00:05:11</td>\n",
       "      <td>0</td>\n",
       "      <td>(-13.5383785, -71.9810924)</td>\n",
       "      <td>0</td>\n",
       "      <td>225</td>\n",
       "      <td>SJ39</td>\n",
       "    </tr>\n",
       "    <tr>\n",
       "      <th>5061</th>\n",
       "      <td>21937162</td>\n",
       "      <td>2022-07-14 00:05:32</td>\n",
       "      <td>0</td>\n",
       "      <td>(-13.5538999, -71.8619277)</td>\n",
       "      <td>1</td>\n",
       "      <td>155</td>\n",
       "      <td>SJ37</td>\n",
       "    </tr>\n",
       "    <tr>\n",
       "      <th>5081</th>\n",
       "      <td>21937164</td>\n",
       "      <td>2022-07-14 00:05:59</td>\n",
       "      <td>0</td>\n",
       "      <td>(-13.5476402, -71.8805191)</td>\n",
       "      <td>0</td>\n",
       "      <td>33</td>\n",
       "      <td>SJ07</td>\n",
       "    </tr>\n",
       "    <tr>\n",
       "      <th>...</th>\n",
       "      <td>...</td>\n",
       "      <td>...</td>\n",
       "      <td>...</td>\n",
       "      <td>...</td>\n",
       "      <td>...</td>\n",
       "      <td>...</td>\n",
       "      <td>...</td>\n",
       "    </tr>\n",
       "    <tr>\n",
       "      <th>62360</th>\n",
       "      <td>22142519</td>\n",
       "      <td>2022-07-14 23:46:49</td>\n",
       "      <td>5</td>\n",
       "      <td>(-13.5510421, -71.8767183)</td>\n",
       "      <td>0</td>\n",
       "      <td>180</td>\n",
       "      <td>SJ04</td>\n",
       "    </tr>\n",
       "    <tr>\n",
       "      <th>62405</th>\n",
       "      <td>22142539</td>\n",
       "      <td>2022-07-14 23:51:05</td>\n",
       "      <td>5</td>\n",
       "      <td>(-13.5539454, -71.8619251)</td>\n",
       "      <td>2</td>\n",
       "      <td>208</td>\n",
       "      <td>SJ37</td>\n",
       "    </tr>\n",
       "    <tr>\n",
       "      <th>62443</th>\n",
       "      <td>22142555</td>\n",
       "      <td>2022-07-14 23:54:43</td>\n",
       "      <td>3</td>\n",
       "      <td>(-13.5513956, -71.9902558)</td>\n",
       "      <td>0</td>\n",
       "      <td>284</td>\n",
       "      <td>SJ40</td>\n",
       "    </tr>\n",
       "    <tr>\n",
       "      <th>62481</th>\n",
       "      <td>22142569</td>\n",
       "      <td>2022-07-14 23:56:00</td>\n",
       "      <td>5</td>\n",
       "      <td>(-13.5539692, -71.8619186)</td>\n",
       "      <td>0</td>\n",
       "      <td>25</td>\n",
       "      <td>SJ37</td>\n",
       "    </tr>\n",
       "    <tr>\n",
       "      <th>62572</th>\n",
       "      <td>22142606</td>\n",
       "      <td>2022-07-14 23:59:50</td>\n",
       "      <td>5</td>\n",
       "      <td>(-13.5538675, -71.8619845)</td>\n",
       "      <td>2</td>\n",
       "      <td>305</td>\n",
       "      <td>SJ37</td>\n",
       "    </tr>\n",
       "  </tbody>\n",
       "</table>\n",
       "<p>64702 rows × 7 columns</p>\n",
       "</div>"
      ],
      "text/plain": [
       "             id           date_time  lap          latitude_longitude  \\\n",
       "4824   21937142 2022-07-14 00:01:31    0  (-13.5537836, -71.8619456)   \n",
       "4978   21937155 2022-07-14 00:03:44    0  (-13.5540421, -71.8620274)   \n",
       "5039   21937160 2022-07-14 00:05:11    0  (-13.5383785, -71.9810924)   \n",
       "5061   21937162 2022-07-14 00:05:32    0  (-13.5538999, -71.8619277)   \n",
       "5081   21937164 2022-07-14 00:05:59    0  (-13.5476402, -71.8805191)   \n",
       "...         ...                 ...  ...                         ...   \n",
       "62360  22142519 2022-07-14 23:46:49    5  (-13.5510421, -71.8767183)   \n",
       "62405  22142539 2022-07-14 23:51:05    5  (-13.5539454, -71.8619251)   \n",
       "62443  22142555 2022-07-14 23:54:43    3  (-13.5513956, -71.9902558)   \n",
       "62481  22142569 2022-07-14 23:56:00    5  (-13.5539692, -71.8619186)   \n",
       "62572  22142606 2022-07-14 23:59:50    5  (-13.5538675, -71.8619845)   \n",
       "\n",
       "       velocity  navigation vehicle_id  \n",
       "4824          5           6       SJ37  \n",
       "4978          0         194       SJ37  \n",
       "5039          0         225       SJ39  \n",
       "5061          1         155       SJ37  \n",
       "5081          0          33       SJ07  \n",
       "...         ...         ...        ...  \n",
       "62360         0         180       SJ04  \n",
       "62405         2         208       SJ37  \n",
       "62443         0         284       SJ40  \n",
       "62481         0          25       SJ37  \n",
       "62572         2         305       SJ37  \n",
       "\n",
       "[64702 rows x 7 columns]"
      ]
     },
     "execution_count": 4,
     "metadata": {},
     "output_type": "execute_result"
    }
   ],
   "source": [
    "# leer dataset monitoring\n",
    "data = pd.read_csv('monitoring.csv')\n",
    "\n",
    "# diseño del df: creacion data_time y latitude_longitude\n",
    "data['date'] += ' ' + data['time']\n",
    "data['latitude'] = data.apply(lambda row: (row['latitude'], row['longitude']), axis=1)\n",
    "data.drop(['time', 'longitude'], inplace=True, axis=1)\n",
    "data = data.rename(columns={'date':'date_time', 'latitude':'latitude_longitude', 'vehicle_id_id':'vehicle_id'}, inplace=False)\n",
    "data = data.drop_duplicates(subset=['latitude_longitude']) # (65155, 7) (64702, 7)\n",
    "data = data.sort_values(by='date_time')\n",
    "\n",
    "# convertir de object a datatime\n",
    "data['date_time'] = pd.to_datetime(data['date_time'], format='%Y-%m-%d %H:%M:%S')\n",
    "print(data.shape)\n",
    "data\n",
    "# a = data.loc[4824, 'date_time']\n",
    "# b = data.loc[4978, 'date_time']\n",
    "# print(a)\n",
    "# print(b)\n",
    "# (a + abs(a-b)/2).round('1s')\n"
   ]
  },
  {
   "attachments": {},
   "cell_type": "markdown",
   "metadata": {},
   "source": [
    "### Analisis General"
   ]
  },
  {
   "cell_type": "code",
   "execution_count": 5,
   "metadata": {},
   "outputs": [
    {
     "name": "stdout",
     "output_type": "stream",
     "text": [
      "# laps:  7 -> [0 5 1 6 2 3 4]\n",
      "# vehicles:  37 -> ['SJ01', 'SJ02', 'SJ03', 'SJ04', 'SJ05', 'SJ06', 'SJ07', 'SJ08', 'SJ09', 'SJ10', 'SJ11', 'SJ12', 'SJ13', 'SJ14', 'SJ16', 'SJ18', 'SJ19', 'SJ20', 'SJ21', 'SJ23', 'SJ24', 'SJ25', 'SJ26', 'SJ27', 'SJ28', 'SJ29', 'SJ30', 'SJ31', 'SJ34', 'SJ35', 'SJ36', 'SJ37', 'SJ38', 'SJ39', 'SJ40', 'SJ41', 'SJ42']\n"
     ]
    }
   ],
   "source": [
    "# cantidad de datos: laps y vehicles\n",
    "vehicles = sorted(data['vehicle_id'].unique())\n",
    "print('# laps: ', len(data['lap'].unique()), '->',data['lap'].unique())\n",
    "print('# vehicles: ', len(vehicles), '->' ,vehicles)"
   ]
  },
  {
   "cell_type": "code",
   "execution_count": 6,
   "metadata": {},
   "outputs": [
    {
     "name": "stdout",
     "output_type": "stream",
     "text": [
      "# Max de datos:  2607\n",
      "# Min de datos:  3\n"
     ]
    },
    {
     "data": {
      "text/plain": [
       "dict_items([('SJ01', 1978), ('SJ02', 2416), ('SJ03', 1759), ('SJ04', 2356), ('SJ05', 2324), ('SJ06', 4), ('SJ07', 1862), ('SJ08', 1366), ('SJ09', 934), ('SJ10', 2194), ('SJ11', 1319), ('SJ12', 1756), ('SJ13', 1884), ('SJ14', 2078), ('SJ16', 2156), ('SJ18', 2371), ('SJ19', 2110), ('SJ20', 2376), ('SJ21', 1027), ('SJ23', 1761), ('SJ24', 1346), ('SJ25', 55), ('SJ26', 3), ('SJ27', 2607), ('SJ28', 1848), ('SJ29', 1391), ('SJ30', 2203), ('SJ31', 2191), ('SJ34', 2325), ('SJ35', 1994), ('SJ36', 1985), ('SJ37', 2561), ('SJ38', 2310), ('SJ39', 809), ('SJ40', 1227), ('SJ41', 2245), ('SJ42', 1571)])"
      ]
     },
     "execution_count": 6,
     "metadata": {},
     "output_type": "execute_result"
    }
   ],
   "source": [
    "# datos por cada vehiculo\n",
    "veh_rows = {}\n",
    "for veh in vehicles: \n",
    "    veh_rows[veh] = len(data[data['vehicle_id'] == veh])\n",
    "\n",
    "print('# Max de datos: ', max(veh_rows.values()))\n",
    "print('# Min de datos: ', min(veh_rows.values()))\n",
    "veh_rows.items()"
   ]
  },
  {
   "attachments": {},
   "cell_type": "markdown",
   "metadata": {},
   "source": [
    "### Funciones"
   ]
  },
  {
   "cell_type": "code",
   "execution_count": 7,
   "metadata": {},
   "outputs": [],
   "source": [
    "# FUNCION: filtrar los puntos de ida\n",
    "def idaPoints(df):\n",
    "    end1_stop = {'latitude_longitude':(-13.5513636,-71.988304), 'navigation':75, 'radio':50}\n",
    "    end2_stop = {'latitude_longitude':(-13.5511395,-71.986925), 'navigation':206, 'radio':50}\n",
    "    for i, row in df.iterrows():\n",
    "        if ( itPassed(row, end1_stop) or itPassed(row, end2_stop)):\n",
    "            break\n",
    "    return df.head(i+1)\n",
    "\n",
    "# FUNCION: ver si un punto paso por un stop\n",
    "def itPassed(point, stop):\n",
    "    nav = abs(point['navigation'] - stop['navigation'])\n",
    "    dis = round(hvs(point['latitude_longitude'], stop['latitude_longitude'], unit=Unit.METERS), 2)\n",
    "    return (nav<=45 and dis<=stop['radio'])\n",
    "\n",
    "# FUNCION: VERIFICAR SI EL PUNTO PASO POR UN STOP\n",
    "def SearchPoints(row, stops, r_nav=45, r_dtec=60):\n",
    "    # verificar la navegacion y el radio de distancia\n",
    "    stops = stops[abs(stops['navigation'] - row['navigation']) <= r_nav]\n",
    "    stops['dis'] = stops['latitude_longitude'].apply(lambda stop: round(hvs(row['latitude_longitude'], stop, unit=Unit.METERS), 2))\n",
    "    stops = stops[stops['dis'] <= r_dtec]\n",
    "    \n",
    "    # preparar el output\n",
    "    row['stop'] = str(stops.loc[stops['dis'].idxmin(), 'id']) if len(stops) != 0 else np.nan\n",
    "    row['dis'] = float(stops.loc[stops['dis'].idxmin(), 'dis']) if len(stops) != 0 else 0    \n",
    "    return row\n",
    "\n",
    "# FUNCION: calcula el punto medio de tiempo\n",
    "def midtime(row, df):\n",
    "    if row['stop'] == df.loc[row.name+1, 'stop']:\n",
    "        a = df.loc[row.name, 'date_time']\n",
    "        b = df.loc[row.name+1, 'date_time']\n",
    "        row['date_time'] = (a - abs(a-b)/2).round('1s') if a<b else (a + abs(a-b)/2).round('1s')\n",
    "    return row \n",
    "\n",
    "# FUNCION: CALCULA EL TIEMPO EN SEG DE UN PUNTO CON SU ANTERIOR\n",
    "def time_travel(row, df):\n",
    "    return (df.loc[row.name, 'date_time'] - df.loc[row.name-1, 'date_time']).total_seconds() if row.name != 0 else 0\n"
   ]
  },
  {
   "attachments": {},
   "cell_type": "markdown",
   "metadata": {},
   "source": [
    "### Crear samples"
   ]
  },
  {
   "cell_type": "code",
   "execution_count": 8,
   "metadata": {},
   "outputs": [
    {
     "name": "stdout",
     "output_type": "stream",
     "text": [
      "['SJ01', 'SJ02', 'SJ03', 'SJ04', 'SJ05', 'SJ06', 'SJ07', 'SJ08', 'SJ09', 'SJ10', 'SJ11', 'SJ12', 'SJ13', 'SJ14', 'SJ16', 'SJ18', 'SJ19', 'SJ20', 'SJ21', 'SJ23', 'SJ24', 'SJ25', 'SJ26', 'SJ27', 'SJ28', 'SJ29', 'SJ30', 'SJ31', 'SJ34', 'SJ35', 'SJ36', 'SJ37', 'SJ38', 'SJ39', 'SJ40', 'SJ41', 'SJ42']\n"
     ]
    }
   ],
   "source": [
    "print(vehicles)"
   ]
  },
  {
   "cell_type": "code",
   "execution_count": 86,
   "metadata": {},
   "outputs": [
    {
     "name": "stdout",
     "output_type": "stream",
     "text": [
      "SJ01 5 1\n"
     ]
    },
    {
     "ename": "KeyboardInterrupt",
     "evalue": "",
     "output_type": "error",
     "traceback": [
      "\u001b[1;31m---------------------------------------------------------------------------\u001b[0m",
      "\u001b[1;31mKeyboardInterrupt\u001b[0m                         Traceback (most recent call last)",
      "\u001b[1;32mc:\\Users\\efran\\Projects\\Travel-time-prediction-ConvLSTM\\processingDataset.ipynb Cell 17\u001b[0m in \u001b[0;36m2\n\u001b[0;32m     <a href='vscode-notebook-cell:/c%3A/Users/efran/Projects/Travel-time-prediction-ConvLSTM/processingDataset.ipynb#X22sZmlsZQ%3D%3D?line=16'>17</a>\u001b[0m df_veh_lap \u001b[39m=\u001b[39m idaPoints(df_veh[df_veh[\u001b[39m'\u001b[39m\u001b[39mlap\u001b[39m\u001b[39m'\u001b[39m] \u001b[39m==\u001b[39m lap]\u001b[39m.\u001b[39mreset_index(drop\u001b[39m=\u001b[39m\u001b[39mTrue\u001b[39;00m))\n\u001b[0;32m     <a href='vscode-notebook-cell:/c%3A/Users/efran/Projects/Travel-time-prediction-ConvLSTM/processingDataset.ipynb#X22sZmlsZQ%3D%3D?line=18'>19</a>\u001b[0m \u001b[39mif\u001b[39;00m df_veh_lap\u001b[39m.\u001b[39mshape[\u001b[39m0\u001b[39m] \u001b[39m>\u001b[39m \u001b[39m99\u001b[39m:\n\u001b[0;32m     <a href='vscode-notebook-cell:/c%3A/Users/efran/Projects/Travel-time-prediction-ConvLSTM/processingDataset.ipynb#X22sZmlsZQ%3D%3D?line=19'>20</a>\u001b[0m     \u001b[39m# calcular la distancia entre puntos\u001b[39;00m\n\u001b[1;32m---> <a href='vscode-notebook-cell:/c%3A/Users/efran/Projects/Travel-time-prediction-ConvLSTM/processingDataset.ipynb#X22sZmlsZQ%3D%3D?line=20'>21</a>\u001b[0m     df_veh_lap \u001b[39m=\u001b[39m  df_veh_lap\u001b[39m.\u001b[39;49mhead(df_veh_lap\u001b[39m.\u001b[39;49mshape[\u001b[39m0\u001b[39;49m]\u001b[39m-\u001b[39;49m\u001b[39m1\u001b[39;49m)\u001b[39m.\u001b[39;49mapply(\u001b[39mlambda\u001b[39;49;00m row: dis(row, df_veh_lap), axis\u001b[39m=\u001b[39;49m\u001b[39m1\u001b[39;49m)\n\u001b[0;32m     <a href='vscode-notebook-cell:/c%3A/Users/efran/Projects/Travel-time-prediction-ConvLSTM/processingDataset.ipynb#X22sZmlsZQ%3D%3D?line=21'>22</a>\u001b[0m     list_dis \u001b[39m+\u001b[39m\u001b[39m=\u001b[39m \u001b[39mlist\u001b[39m(df_veh_lap[\u001b[39m'\u001b[39m\u001b[39mdis\u001b[39m\u001b[39m'\u001b[39m])\n\u001b[0;32m     <a href='vscode-notebook-cell:/c%3A/Users/efran/Projects/Travel-time-prediction-ConvLSTM/processingDataset.ipynb#X22sZmlsZQ%3D%3D?line=23'>24</a>\u001b[0m     \u001b[39m# verificar puntos por stop\u001b[39;00m\n",
      "File \u001b[1;32mc:\\Users\\efran\\AppData\\Local\\Programs\\Python\\Python310\\lib\\site-packages\\pandas\\core\\frame.py:9558\u001b[0m, in \u001b[0;36mDataFrame.apply\u001b[1;34m(self, func, axis, raw, result_type, args, **kwargs)\u001b[0m\n\u001b[0;32m   9547\u001b[0m \u001b[39mfrom\u001b[39;00m \u001b[39mpandas\u001b[39;00m\u001b[39m.\u001b[39;00m\u001b[39mcore\u001b[39;00m\u001b[39m.\u001b[39;00m\u001b[39mapply\u001b[39;00m \u001b[39mimport\u001b[39;00m frame_apply\n\u001b[0;32m   9549\u001b[0m op \u001b[39m=\u001b[39m frame_apply(\n\u001b[0;32m   9550\u001b[0m     \u001b[39mself\u001b[39m,\n\u001b[0;32m   9551\u001b[0m     func\u001b[39m=\u001b[39mfunc,\n\u001b[1;32m   (...)\u001b[0m\n\u001b[0;32m   9556\u001b[0m     kwargs\u001b[39m=\u001b[39mkwargs,\n\u001b[0;32m   9557\u001b[0m )\n\u001b[1;32m-> 9558\u001b[0m \u001b[39mreturn\u001b[39;00m op\u001b[39m.\u001b[39;49mapply()\u001b[39m.\u001b[39m__finalize__(\u001b[39mself\u001b[39m, method\u001b[39m=\u001b[39m\u001b[39m\"\u001b[39m\u001b[39mapply\u001b[39m\u001b[39m\"\u001b[39m)\n",
      "File \u001b[1;32mc:\\Users\\efran\\AppData\\Local\\Programs\\Python\\Python310\\lib\\site-packages\\pandas\\core\\apply.py:741\u001b[0m, in \u001b[0;36mFrameApply.apply\u001b[1;34m(self)\u001b[0m\n\u001b[0;32m    738\u001b[0m \u001b[39melif\u001b[39;00m \u001b[39mself\u001b[39m\u001b[39m.\u001b[39mraw:\n\u001b[0;32m    739\u001b[0m     \u001b[39mreturn\u001b[39;00m \u001b[39mself\u001b[39m\u001b[39m.\u001b[39mapply_raw()\n\u001b[1;32m--> 741\u001b[0m \u001b[39mreturn\u001b[39;00m \u001b[39mself\u001b[39;49m\u001b[39m.\u001b[39;49mapply_standard()\n",
      "File \u001b[1;32mc:\\Users\\efran\\AppData\\Local\\Programs\\Python\\Python310\\lib\\site-packages\\pandas\\core\\apply.py:868\u001b[0m, in \u001b[0;36mFrameApply.apply_standard\u001b[1;34m(self)\u001b[0m\n\u001b[0;32m    867\u001b[0m \u001b[39mdef\u001b[39;00m \u001b[39mapply_standard\u001b[39m(\u001b[39mself\u001b[39m):\n\u001b[1;32m--> 868\u001b[0m     results, res_index \u001b[39m=\u001b[39m \u001b[39mself\u001b[39;49m\u001b[39m.\u001b[39;49mapply_series_generator()\n\u001b[0;32m    870\u001b[0m     \u001b[39m# wrap results\u001b[39;00m\n\u001b[0;32m    871\u001b[0m     \u001b[39mreturn\u001b[39;00m \u001b[39mself\u001b[39m\u001b[39m.\u001b[39mwrap_results(results, res_index)\n",
      "File \u001b[1;32mc:\\Users\\efran\\AppData\\Local\\Programs\\Python\\Python310\\lib\\site-packages\\pandas\\core\\apply.py:888\u001b[0m, in \u001b[0;36mFrameApply.apply_series_generator\u001b[1;34m(self)\u001b[0m\n\u001b[0;32m    884\u001b[0m         results[i] \u001b[39m=\u001b[39m \u001b[39mself\u001b[39m\u001b[39m.\u001b[39mf(v)\n\u001b[0;32m    885\u001b[0m         \u001b[39mif\u001b[39;00m \u001b[39misinstance\u001b[39m(results[i], ABCSeries):\n\u001b[0;32m    886\u001b[0m             \u001b[39m# If we have a view on v, we need to make a copy because\u001b[39;00m\n\u001b[0;32m    887\u001b[0m             \u001b[39m#  series_generator will swap out the underlying data\u001b[39;00m\n\u001b[1;32m--> 888\u001b[0m             results[i] \u001b[39m=\u001b[39m results[i]\u001b[39m.\u001b[39;49mcopy(deep\u001b[39m=\u001b[39;49m\u001b[39mFalse\u001b[39;49;00m)\n\u001b[0;32m    890\u001b[0m \u001b[39mreturn\u001b[39;00m results, res_index\n",
      "File \u001b[1;32mc:\\Users\\efran\\AppData\\Local\\Programs\\Python\\Python310\\lib\\site-packages\\pandas\\core\\generic.py:6373\u001b[0m, in \u001b[0;36mNDFrame.copy\u001b[1;34m(self, deep)\u001b[0m\n\u001b[0;32m   6263\u001b[0m \u001b[39m@final\u001b[39m\n\u001b[0;32m   6264\u001b[0m \u001b[39mdef\u001b[39;00m \u001b[39mcopy\u001b[39m(\u001b[39mself\u001b[39m: NDFrameT, deep: bool_t \u001b[39m|\u001b[39m \u001b[39mNone\u001b[39;00m \u001b[39m=\u001b[39m \u001b[39mTrue\u001b[39;00m) \u001b[39m-\u001b[39m\u001b[39m>\u001b[39m NDFrameT:\n\u001b[0;32m   6265\u001b[0m     \u001b[39m\"\"\"\u001b[39;00m\n\u001b[0;32m   6266\u001b[0m \u001b[39m    Make a copy of this object's indices and data.\u001b[39;00m\n\u001b[0;32m   6267\u001b[0m \n\u001b[1;32m   (...)\u001b[0m\n\u001b[0;32m   6371\u001b[0m \u001b[39m    dtype: object\u001b[39;00m\n\u001b[0;32m   6372\u001b[0m \u001b[39m    \"\"\"\u001b[39;00m\n\u001b[1;32m-> 6373\u001b[0m     data \u001b[39m=\u001b[39m \u001b[39mself\u001b[39;49m\u001b[39m.\u001b[39;49m_mgr\u001b[39m.\u001b[39;49mcopy(deep\u001b[39m=\u001b[39;49mdeep)\n\u001b[0;32m   6374\u001b[0m     \u001b[39mself\u001b[39m\u001b[39m.\u001b[39m_clear_item_cache()\n\u001b[0;32m   6375\u001b[0m     \u001b[39mreturn\u001b[39;00m \u001b[39mself\u001b[39m\u001b[39m.\u001b[39m_constructor(data)\u001b[39m.\u001b[39m__finalize__(\u001b[39mself\u001b[39m, method\u001b[39m=\u001b[39m\u001b[39m\"\u001b[39m\u001b[39mcopy\u001b[39m\u001b[39m\"\u001b[39m)\n",
      "File \u001b[1;32mc:\\Users\\efran\\AppData\\Local\\Programs\\Python\\Python310\\lib\\site-packages\\pandas\\core\\internals\\managers.py:645\u001b[0m, in \u001b[0;36mBaseBlockManager.copy\u001b[1;34m(self, deep)\u001b[0m\n\u001b[0;32m    642\u001b[0m \u001b[39melse\u001b[39;00m:\n\u001b[0;32m    643\u001b[0m     new_axes \u001b[39m=\u001b[39m \u001b[39mlist\u001b[39m(\u001b[39mself\u001b[39m\u001b[39m.\u001b[39maxes)\n\u001b[1;32m--> 645\u001b[0m res \u001b[39m=\u001b[39m \u001b[39mself\u001b[39;49m\u001b[39m.\u001b[39;49mapply(\u001b[39m\"\u001b[39;49m\u001b[39mcopy\u001b[39;49m\u001b[39m\"\u001b[39;49m, deep\u001b[39m=\u001b[39;49mdeep)\n\u001b[0;32m    646\u001b[0m new_refs: \u001b[39mlist\u001b[39m[weakref\u001b[39m.\u001b[39mref \u001b[39m|\u001b[39m \u001b[39mNone\u001b[39;00m] \u001b[39m|\u001b[39m \u001b[39mNone\u001b[39;00m\n\u001b[0;32m    647\u001b[0m \u001b[39mif\u001b[39;00m deep:\n",
      "File \u001b[1;32mc:\\Users\\efran\\AppData\\Local\\Programs\\Python\\Python310\\lib\\site-packages\\pandas\\core\\internals\\managers.py:358\u001b[0m, in \u001b[0;36mBaseBlockManager.apply\u001b[1;34m(self, f, align_keys, ignore_failures, **kwargs)\u001b[0m\n\u001b[0;32m    355\u001b[0m \u001b[39mif\u001b[39;00m ignore_failures:\n\u001b[0;32m    356\u001b[0m     \u001b[39mreturn\u001b[39;00m \u001b[39mself\u001b[39m\u001b[39m.\u001b[39m_combine(result_blocks)\n\u001b[1;32m--> 358\u001b[0m out \u001b[39m=\u001b[39m \u001b[39mtype\u001b[39;49m(\u001b[39mself\u001b[39;49m)\u001b[39m.\u001b[39;49mfrom_blocks(result_blocks, \u001b[39mself\u001b[39;49m\u001b[39m.\u001b[39;49maxes)\n\u001b[0;32m    359\u001b[0m \u001b[39mreturn\u001b[39;00m out\n",
      "File \u001b[1;32mc:\\Users\\efran\\AppData\\Local\\Programs\\Python\\Python310\\lib\\site-packages\\pandas\\core\\internals\\managers.py:1906\u001b[0m, in \u001b[0;36mSingleBlockManager.from_blocks\u001b[1;34m(cls, blocks, axes, refs)\u001b[0m\n\u001b[0;32m   1904\u001b[0m \u001b[39mif\u001b[39;00m refs \u001b[39mis\u001b[39;00m \u001b[39mnot\u001b[39;00m \u001b[39mNone\u001b[39;00m:\n\u001b[0;32m   1905\u001b[0m     \u001b[39massert\u001b[39;00m \u001b[39mlen\u001b[39m(refs) \u001b[39m==\u001b[39m \u001b[39m1\u001b[39m\n\u001b[1;32m-> 1906\u001b[0m \u001b[39mreturn\u001b[39;00m \u001b[39mcls\u001b[39;49m(blocks[\u001b[39m0\u001b[39;49m], axes[\u001b[39m0\u001b[39;49m], refs, verify_integrity\u001b[39m=\u001b[39;49m\u001b[39mFalse\u001b[39;49;00m)\n",
      "File \u001b[1;32mc:\\Users\\efran\\AppData\\Local\\Programs\\Python\\Python310\\lib\\site-packages\\pandas\\core\\internals\\managers.py:1880\u001b[0m, in \u001b[0;36mSingleBlockManager.__init__\u001b[1;34m(self, block, axis, refs, verify_integrity, fastpath)\u001b[0m\n\u001b[0;32m   1868\u001b[0m \u001b[39mdef\u001b[39;00m \u001b[39m__init__\u001b[39m(\n\u001b[0;32m   1869\u001b[0m     \u001b[39mself\u001b[39m,\n\u001b[0;32m   1870\u001b[0m     block: Block,\n\u001b[1;32m   (...)\u001b[0m\n\u001b[0;32m   1877\u001b[0m     \u001b[39m# assert isinstance(block, Block), type(block)\u001b[39;00m\n\u001b[0;32m   1878\u001b[0m     \u001b[39m# assert isinstance(axis, Index), type(axis)\u001b[39;00m\n\u001b[1;32m-> 1880\u001b[0m     \u001b[39mif\u001b[39;00m fastpath \u001b[39mis\u001b[39;49;00m \u001b[39mnot\u001b[39;49;00m lib\u001b[39m.\u001b[39;49mno_default:\n\u001b[0;32m   1881\u001b[0m         warnings\u001b[39m.\u001b[39mwarn(\n\u001b[0;32m   1882\u001b[0m             \u001b[39m\"\u001b[39m\u001b[39mThe `fastpath` keyword is deprecated and will be removed \u001b[39m\u001b[39m\"\u001b[39m\n\u001b[0;32m   1883\u001b[0m             \u001b[39m\"\u001b[39m\u001b[39min a future version.\u001b[39m\u001b[39m\"\u001b[39m,\n\u001b[0;32m   1884\u001b[0m             \u001b[39mFutureWarning\u001b[39;00m,\n\u001b[0;32m   1885\u001b[0m             stacklevel\u001b[39m=\u001b[39mfind_stack_level(inspect\u001b[39m.\u001b[39mcurrentframe()),\n\u001b[0;32m   1886\u001b[0m         )\n\u001b[0;32m   1888\u001b[0m     \u001b[39mself\u001b[39m\u001b[39m.\u001b[39maxes \u001b[39m=\u001b[39m [axis]\n",
      "\u001b[1;31mKeyboardInterrupt\u001b[0m: "
     ]
    }
   ],
   "source": [
    "def dis(row, df):\n",
    "    row['dis'] = round(hvs(row['latitude_longitude'], df.loc[row.name+1, 'latitude_longitude'], unit=Unit.METERS), 2)\n",
    "    row['end_index'] = row.name+1\n",
    "    return row\n",
    "\n",
    "tb_fveh = pd.DataFrame(columns=['vehicle', 'lap',  'total_p', 'ida_p', 'sum_dis'])\n",
    "list_stop = []\n",
    "list_dis = []\n",
    "\n",
    "for veh in vehicles:\n",
    "    df_veh = data[data['vehicle_id'] == veh].reset_index(drop=True).copy()\n",
    "    laps = sorted(df_veh['lap'].unique()[1:-1])\n",
    "\n",
    "    # print(veh, laps)\n",
    "    # laps = [3]\n",
    "    for lap in laps:\n",
    "        df_veh_lap = idaPoints(df_veh[df_veh['lap'] == lap].reset_index(drop=True))\n",
    "\n",
    "        if df_veh_lap.shape[0] > 99:\n",
    "            # calcular la distancia entre puntos\n",
    "            df_veh_lap =  df_veh_lap.head(df_veh_lap.shape[0]-1).apply(lambda row: dis(row, df_veh_lap), axis=1)\n",
    "            list_dis += list(df_veh_lap['dis'])\n",
    "            \n",
    "            # verificar puntos por stop\n",
    "            df_veh_lap_stop = df_veh_lap.apply(lambda row: SearchPoints(row, df_stops), axis=1)\n",
    "            df_veh_lap_stop = df_veh_lap_stop[df_veh_lap_stop['stop'].notna()].reset_index()\n",
    "            list_stop += list(df_veh_lap_stop['stop'])\n",
    "\n",
    "            # registrar\n",
    "            tb_fveh.loc[tb_fveh.shape[0]] = [veh, lap, df_veh.shape[0], df_veh_lap.shape[0], df_veh_lap['dis'].sum()]\n",
    "        else: \n",
    "            print(veh, lap, df_veh_lap.shape[0])\n",
    "            \n",
    "            # # print(df_veh_lap.to_string())\n",
    "            # print(df_veh_lap['dis'].mean())\n",
    "            # print(df_veh_lap['dis'].min())\n",
    "            # print(df_veh_lap['dis'].max())\n",
    "            # list_dis += list(df_veh_lap['dis'])\n",
    "\n",
    "# print( len(list_dis))\n",
    "tmp = [ (k, v) for k,v in dict(Counter(list_stop)).items()]\n",
    "tb_fstop = pd.DataFrame(tmp, columns =['id_stop', 'total_p'])\n",
    "tb_fstop.sort_values(by='total_p', inplace=True, ascending=False, ignore_index=True)\n",
    "print(tb_fstop.to_string())\n"
   ]
  },
  {
   "cell_type": "code",
   "execution_count": 87,
   "metadata": {},
   "outputs": [
    {
     "data": {
      "image/png": "[encoded data removed]",
      "text/plain": [
       "<Figure size 3000x1000 with 1 Axes>"
      ]
     },
     "metadata": {},
     "output_type": "display_data"
    }
   ],
   "source": [
    "import matplotlib.pyplot as plt\n",
    "\n",
    "tb_fstop.sort_values(by='id_stop', inplace=True, ascending=True, ignore_index=True, key=np.int64)\n",
    "\n",
    "# creating the bar plot\n",
    "fig = plt.figure(figsize = (30, 10))\n",
    "plt.bar(list(tb_fstop['id_stop']),list(tb_fstop['total_p']), color ='maroon',width = 0.4)\n",
    " \n",
    "plt.xlabel(\"Stops\")\n",
    "plt.ylabel(\"Total points\")\n",
    "plt.title(\"Numero de puntos por stop con r = 60m\")\n",
    "plt.show()"
   ]
  },
  {
   "cell_type": "code",
   "execution_count": 19,
   "metadata": {},
   "outputs": [],
   "source": [
    "df_his = pd.DataFrame(columns=['vehicle', 'lap', 'ida_Points' , 'total_Stopbus', 'total_NaN', 'Percent_StopPoints', 'stops_nan'])\n",
    "\n",
    "nStopbus = 84\n",
    "\n",
    "for veh in vehicles[0:1]:\n",
    "    df_veh = data[data['vehicle_id'] == veh].reset_index(drop=True).copy()\n",
    "    laps = sorted(df_veh['lap'].unique()[1:-1])\n",
    "\n",
    "    # print(veh, laps)\n",
    "    # laps = [5]\n",
    "    for lap in laps:\n",
    "        df_veh_lap = idaPoints(df_veh[df_veh['lap'] == lap].reset_index(drop=True))\n",
    "\n",
    "        # verificar puntos por stop\n",
    "        df_veh_lap_stop = df_veh_lap.apply(lambda row: SearchPoints(row, df_stops), axis=1)\n",
    "        df_veh_lap_stop = df_veh_lap_stop[df_veh_lap_stop['stop'].notna()].reset_index()\n",
    "\n",
    "        # midtime\n",
    "        df_veh_lap_stop.sort_values(by=['stop', 'dis'], ascending=True, inplace=True, ignore_index=True, key=np.int64)\n",
    "        # print('lap: ', lap, '->',Counter(list(df_veh_lap_stop['stop'].value_counts()))) \n",
    "        df_veh_lap_stop = df_veh_lap_stop.head(df_veh_lap_stop.shape[0]-1).apply(lambda row: midtime(row, df_veh_lap_stop), axis=1)\n",
    "        df_veh_lap_stop.drop_duplicates(subset=['stop'], keep='first', inplace=True, ignore_index=True)\n",
    "\n",
    "        resta = list(set(df_stops['id']) - set(df_veh_lap_stop['stop'].unique()))\n",
    "        # print(len(resta), resta)\n",
    "        # print(df_veh_lap_stop.to_string())\n",
    "\n",
    "        nNaN = nStopbus - len(df_veh_lap_stop)\n",
    "        # print(lap, nNaN)\n",
    "        if nNaN <= nStopbus*0.75:\n",
    "            # calcular time\n",
    "            df_veh_lap_stop['time_travel'] = df_veh_lap_stop.apply(lambda row: time_travel(row, df_veh_lap_stop), axis=1)\n",
    "\n",
    "            # unir con linkref\n",
    "            df_out = df_linkref.join(df_veh_lap_stop.set_index('stop'), on='end_stop')\n",
    "        \n",
    "        df_his.loc[df_his.shape[0]] = [veh, lap, df_veh_lap.shape[0], nStopbus, nNaN, 1-nNaN/nStopbus, resta]\n",
    "    #print('='*50)"
   ]
  },
  {
   "cell_type": "code",
   "execution_count": 30,
   "metadata": {},
   "outputs": [
    {
     "data": {
      "text/plain": [
       "1339"
      ]
     },
     "execution_count": 30,
     "metadata": {},
     "output_type": "execute_result"
    }
   ],
   "source": [
    "df = df_his[df_his['ida_Points']>99]\n",
    "df['total_NaN'].sum()\n",
    "# print(df_his.to_string())\n",
    "# df_his"
   ]
  },
  {
   "cell_type": "code",
   "execution_count": 26,
   "metadata": {},
   "outputs": [
    {
     "data": {
      "text/html": [
       "<div>\n",
       "<style scoped>\n",
       "    .dataframe tbody tr th:only-of-type {\n",
       "        vertical-align: middle;\n",
       "    }\n",
       "\n",
       "    .dataframe tbody tr th {\n",
       "        vertical-align: top;\n",
       "    }\n",
       "\n",
       "    .dataframe thead th {\n",
       "        text-align: right;\n",
       "    }\n",
       "</style>\n",
       "<table border=\"1\" class=\"dataframe\">\n",
       "  <thead>\n",
       "    <tr style=\"text-align: right;\">\n",
       "      <th></th>\n",
       "      <th>vehicle</th>\n",
       "      <th>lap</th>\n",
       "      <th>ida_Points</th>\n",
       "      <th>total_Stopbus</th>\n",
       "      <th>total_NaN</th>\n",
       "      <th>Percent_StopPoints</th>\n",
       "      <th>stops_nan</th>\n",
       "    </tr>\n",
       "  </thead>\n",
       "  <tbody>\n",
       "    <tr>\n",
       "      <th>23</th>\n",
       "      <td>SJ07</td>\n",
       "      <td>3</td>\n",
       "      <td>461</td>\n",
       "      <td>84</td>\n",
       "      <td>2</td>\n",
       "      <td>0.97619</td>\n",
       "      <td>[95, 57]</td>\n",
       "    </tr>\n",
       "    <tr>\n",
       "      <th>101</th>\n",
       "      <td>SJ36</td>\n",
       "      <td>5</td>\n",
       "      <td>467</td>\n",
       "      <td>84</td>\n",
       "      <td>2</td>\n",
       "      <td>0.97619</td>\n",
       "      <td>[95, 116]</td>\n",
       "    </tr>\n",
       "  </tbody>\n",
       "</table>\n",
       "</div>"
      ],
      "text/plain": [
       "    vehicle  lap  ida_Points  total_Stopbus  total_NaN  Percent_StopPoints  \\\n",
       "23     SJ07    3         461             84          2             0.97619   \n",
       "101    SJ36    5         467             84          2             0.97619   \n",
       "\n",
       "     stops_nan  \n",
       "23    [95, 57]  \n",
       "101  [95, 116]  "
      ]
     },
     "execution_count": 26,
     "metadata": {},
     "output_type": "execute_result"
    }
   ],
   "source": [
    "df_his[df_his['total_NaN']==2]"
   ]
  },
  {
   "cell_type": "code",
   "execution_count": 23,
   "metadata": {},
   "outputs": [
    {
     "name": "stdout",
     "output_type": "stream",
     "text": [
      "Rutas admitidas: 112\n",
      "Rutas no admitidas: \n",
      " veh: SJ01, lap: 5, nans: 1\n",
      " veh: SJ05, lap: 0, nans: 26\n",
      " veh: SJ09, lap: 1, nans: 30\n",
      " veh: SJ18, lap: 4, nans: 20\n",
      " veh: SJ31, lap: 2, nans: 4\n",
      " veh: SJ34, lap: 6, nans: 2\n",
      " veh: SJ36, lap: 2, nans: 27\n",
      " veh: SJ38, lap: 0, nans: 12\n",
      " veh: SJ38, lap: 2, nans: 36\n",
      "Counter({'91': 9, '58': 9, '98': 9, '70': 9, '77': 9, '62': 9, '89': 9, '100': 9, '82': 9, '110': 9, '74': 9, '49': 9, '93': 9, '67': 9, '95': 9, '85': 9, '87': 9, '66': 9, '104': 9, '103': 9, '51': 9, '94': 9, '101': 9, '78': 9, '105': 9, '90': 9, '113': 9, '72': 9, '80': 9, '92': 9, '61': 9, '59': 9, '115': 9, '69': 9, '68': 9, '97': 9, '60': 9, '116': 9, '63': 9, '107': 9, '102': 9, '64': 9, '81': 9, '48': 9, '114': 9, '106': 9, '47': 9, '79': 9, '96': 9, '108': 9, '99': 9, '56': 9, '57': 9, '75': 9, '54': 9, '71': 9, '55': 9, '76': 9, '73': 9, '112': 9, '86': 9, '65': 9, '118': 9, '84': 9, '88': 9, '52': 9, '111': 9, '117': 9, '83': 9, '53': 9, '109': 9, '50': 9, '44': 8, '45': 8, '46': 8, '43': 7, '42': 7, '0': 6, '36': 6, '41': 6, '40': 5, '38': 5, '37': 5, '39': 5})\n"
     ]
    }
   ],
   "source": [
    "print(f\"Rutas admitidas: {df_his[df_his['ida_Points'] > 99].shape[0]}\")\n",
    "print(\"Rutas no admitidas: \")\n",
    "empty_stops = []\n",
    "for i, row in df_his.iterrows(): \n",
    "    if row['ida_Points'] <= 99: \n",
    "        print(f\" veh: {row['vehicle']}, lap: {row['lap']}, nans: {row['ida_Points']}\")\n",
    "        empty_stops += row['stops_nan']\n",
    "\n",
    "print(Counter(empty_stops))"
   ]
  },
  {
   "cell_type": "code",
   "execution_count": 191,
   "metadata": {},
   "outputs": [
    {
     "name": "stdout",
     "output_type": "stream",
     "text": [
      "101\n"
     ]
    },
    {
     "data": {
      "text/plain": [
       "20"
      ]
     },
     "execution_count": 191,
     "metadata": {},
     "output_type": "execute_result"
    }
   ],
   "source": [
    "print(len(df_his[df_his['Percent_StopPoints'] >= 0.75]))\n",
    "len(df_his[df_his['Percent_StopPoints'] < 0.75])"
   ]
  },
  {
   "cell_type": "code",
   "execution_count": 115,
   "metadata": {},
   "outputs": [
    {
     "name": "stdout",
     "output_type": "stream",
     "text": [
      "{'48', '96', '95', '118'}\n",
      "------------------------------\n",
      "{'43', '95', '99', '91', '68', '86', '94', '85', '42'}\n",
      "------------------------------\n",
      "{'95'}\n",
      "------------------------------\n",
      "{'51', '60', '95'}\n",
      "------------------------------\n",
      "{'51', '60', '95'}\n",
      "------------------------------\n",
      "{'75', '88', '52', '62', '86', '50', '82', '55', '95', '57', '36', '102', '118', '90', '44', '93', '113', '89', '73', '105', '49', '78', '106', '107', '43', '41', '104', '97', '87', '46', '98', '53', '65', '39', '79', '77', '68', '67', '51', '85', '42', '66', '58', '69', '84', '112', '103', '76', '45', '72', '59', '47', '99', '117', '0', '111', '109', '83', '48', '56', '116', '101', '38', '61', '37', '94'}\n",
      "------------------------------\n",
      "{'72', '113', '41', '97', '60', '95', '69', '46', '36', '99', '106', '47', '117', '64', '103', '42'}\n",
      "------------------------------\n",
      "{'75', '115', '88', '52', '62', '86', '50', '82', '55', '95', '57', '102', '118', '74', '90', '92', '44', '110', '93', '113', '89', '60', '73', '105', '49', '78', '71', '106', '107', '96', '100', '104', '97', '87', '46', '91', '98', '53', '64', '65', '79', '77', '68', '67', '51', '85', '66', '58', '69', '84', '112', '103', '76', '45', '72', '59', '80', '54', '47', '99', '117', '108', '111', '109', '63', '83', '48', '56', '116', '101', '114', '70', '61', '94', '81'}\n",
      "------------------------------\n",
      "{'50', '95', '66', '62'}\n",
      "------------------------------\n",
      "{'50', '93', '97', '95', '52', '118', '36', '102', '57', '61', '94', '51', '85'}\n",
      "------------------------------\n",
      "{'50', '95', '52', '57', '99', '74', '86', '81', '0', '51', '58'}\n",
      "------------------------------\n",
      "{'51', '95', '99', '61', '100', '66', '76'}\n",
      "------------------------------\n",
      "{'82', '51', '97', '95', '52', '99', '98', '100', '81'}\n",
      "------------------------------\n",
      "{'51', '95', '52', '46', '101', '53', '64', '100', '66'}\n",
      "------------------------------\n",
      "{'0', '41', '39', '60', '95', '36', '38', '81', '37', '40'}\n",
      "------------------------------\n",
      "{'63', '82', '51', '60', '95', '99', '98', '86', '100'}\n",
      "------------------------------\n",
      "{'88', '51', '95', '52', '99', '96'}\n",
      "------------------------------\n",
      "{'63', '95', '118', '86', '85'}\n",
      "------------------------------\n",
      "{'95', '52', '46', '99', '114', '98', '86', '61', '51', '85'}\n",
      "------------------------------\n",
      "{'63', '113', '60', '95', '62', '114', '77', '86', '61', '51'}\n",
      "------------------------------\n",
      "{'63', '113', '60', '95', '62', '114', '77', '86', '61', '51'}\n",
      "------------------------------\n",
      "{'63', '113', '60', '95', '62', '114', '77', '86', '61', '51'}\n",
      "------------------------------\n",
      "{'51', '97', '95', '52', '99', '101', '98', '100'}\n",
      "------------------------------\n",
      "{'95', '116', '118', '74', '117', '86', '85'}\n",
      "------------------------------\n",
      "{'43', '45', '113', '54', '97', '60', '95', '118', '101', '117', '107', '68', '86', '112', '51', '85', '66'}\n",
      "------------------------------\n",
      "{'50', '48', '95', '114', '94'}\n",
      "------------------------------\n",
      "{'95', '52', '99', '98', '64', '51'}\n",
      "------------------------------\n",
      "{'95'}\n",
      "------------------------------\n",
      "{'99', '60', '95'}\n",
      "------------------------------\n",
      "{'95'}\n",
      "------------------------------\n",
      "{'45', '95', '52', '99', '86', '51', '85', '109'}\n",
      "------------------------------\n",
      "{'99', '51', '95', '118'}\n",
      "------------------------------\n",
      "{'83', '95', '85', '118'}\n",
      "------------------------------\n",
      "{'95'}\n",
      "------------------------------\n"
     ]
    }
   ],
   "source": [
    "for i, row in df_his.iterrows():\n",
    "    if len(row['stops_nan'])!=84:\n",
    "        print(row['stops_nan'])\n",
    "        print('-'*30)"
   ]
  }
 ],
 "metadata": {
  "kernelspec": {
   "display_name": "Python 3",
   "language": "python",
   "name": "python3"
  },
  "language_info": {
   "codemirror_mode": {
    "name": "ipython",
    "version": 3
   },
   "file_extension": ".py",
   "mimetype": "text/x-python",
   "name": "python",
   "nbconvert_exporter": "python",
   "pygments_lexer": "ipython3",
   "version": "3.10.7"
  },
  "orig_nbformat": 4,
  "vscode": {
   "interpreter": {
    "hash": "bcac86c08c3ea8b8bd99ef420f2aa4d13c29c51aa35d0f7de1bf8bbadf75402f"
   }
  }
 },
 "nbformat": 4,
 "nbformat_minor": 2
}
