{
 "cells": [
  {
   "cell_type": "code",
   "execution_count": 14,
   "metadata": {},
   "outputs": [
    {
     "name": "stdout",
     "output_type": "stream",
     "text": [
      "<class 'pandas.core.frame.DataFrame'>\n",
      "RangeIndex: 1685070 entries, 0 to 1685069\n",
      "Data columns (total 8 columns):\n",
      " #   Column      Non-Null Count    Dtype  \n",
      "---  ------      --------------    -----  \n",
      " 0   id          1685070 non-null  int64  \n",
      " 1   date        1685070 non-null  object \n",
      " 2   time        1685070 non-null  object \n",
      " 3   lap         1685070 non-null  int64  \n",
      " 4   latitude    1685070 non-null  float64\n",
      " 5   longitude   1685070 non-null  float64\n",
      " 6   navigation  1685070 non-null  int64  \n",
      " 7   vehicle_id  1685070 non-null  object \n",
      "dtypes: float64(2), int64(3), object(3)\n",
      "memory usage: 102.8+ MB\n"
     ]
    }
   ],
   "source": [
    "import pandas as pd\n",
    "\n",
    "original_data = pd.read_csv('../data/_Process_monitoring__202303251137.csv', sep=',')\n",
    "\n",
    "# eliminar columnas inutiles\n",
    "original_data.drop(columns=['velocity'], inplace=True)\n",
    "\n",
    "original_data.info()"
   ]
  },
  {
   "cell_type": "code",
   "execution_count": 8,
   "metadata": {},
   "outputs": [
    {
     "name": "stdout",
     "output_type": "stream",
     "text": [
      "<class 'pandas.core.frame.DataFrame'>\n",
      "RangeIndex: 84 entries, 0 to 83\n",
      "Data columns (total 7 columns):\n",
      " #   Column      Non-Null Count  Dtype  \n",
      "---  ------      --------------  -----  \n",
      " 0   number      84 non-null     int64  \n",
      " 1   id          84 non-null     int64  \n",
      " 2   name        84 non-null     object \n",
      " 3   navigation  84 non-null     int64  \n",
      " 4   latitude    84 non-null     float64\n",
      " 5   longitude   84 non-null     float64\n",
      " 6   radio       84 non-null     int64  \n",
      "dtypes: float64(2), int64(4), object(1)\n",
      "memory usage: 4.7+ KB\n"
     ]
    }
   ],
   "source": [
    "stops = pd.read_csv('../data/busstops_ida.csv', sep=',')\n",
    "stops.info()"
   ]
  },
  {
   "cell_type": "code",
   "execution_count": null,
   "metadata": {},
   "outputs": [],
   "source": [
    "# output: un dataset que contenga los puntos que pasaron por un stop"
   ]
  }
 ],
 "metadata": {
  "kernelspec": {
   "display_name": "tensor-gpu",
   "language": "python",
   "name": "python3"
  },
  "language_info": {
   "codemirror_mode": {
    "name": "ipython",
    "version": 3
   },
   "file_extension": ".py",
   "mimetype": "text/x-python",
   "name": "python",
   "nbconvert_exporter": "python",
   "pygments_lexer": "ipython3",
   "version": "3.10.10"
  },
  "orig_nbformat": 4
 },
 "nbformat": 4,
 "nbformat_minor": 2
}
